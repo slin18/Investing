{
 "cells": [
  {
   "cell_type": "code",
   "execution_count": 2,
   "metadata": {},
   "outputs": [],
   "source": [
    "from datetime import datetime\n",
    "\n",
    "import numpy as np\n",
    "import pandas as pd\n",
    "\n",
    "# Visualization\n",
    "import seaborn as sns\n",
    "import matplotlib.pyplot as plt\n",
    "%matplotlib inline\n",
    "%config InlineBackend.figure_format = 'retina'\n",
    "\n",
    "pd.set_option('display.max_columns', 500)\n",
    "\n",
    "plt.rc('figure', figsize=(16, 6))\n",
    "\n",
    "sns.set(context='notebook', style = 'ticks', rc={'figure.figsize': (16,6)})\n",
    "\n",
    "np.set_printoptions(precision=4, suppress=True)"
   ]
  },
  {
   "cell_type": "code",
   "execution_count": 3,
   "metadata": {},
   "outputs": [],
   "source": [
    "stock = 'KO'"
   ]
  },
  {
   "cell_type": "code",
   "execution_count": 4,
   "metadata": {},
   "outputs": [
    {
     "name": "stdout",
     "output_type": "stream",
     "text": [
      "total 1584\r\n",
      "-rw-r--r--  1 sam3  staff   75912 Jun 27 20:16 INCOMESTATEMENT_QTR_KO.json\r\n",
      "-rw-r--r--  1 sam3  staff   18775 Jun 27 20:17 INCOMESTATEMENT_YR_KO.json\r\n",
      "-rw-r--r--  1 sam3  staff   21472 Jun 27 20:17 CASHFLOW_YR_KO.json\r\n",
      "-rw-r--r--  1 sam3  staff   87744 Jun 27 20:17 CASHFLOW_QTR_KO.json\r\n",
      "-rw-r--r--  1 sam3  staff   27948 Jun 27 20:17 BALANCESHEET_YR_KO.json\r\n",
      "-rw-r--r--  1 sam3  staff  108756 Jun 27 20:17 BALANCESHEET_QTR_KO.json\r\n",
      "-rw-r--r--@ 1 sam3  staff   97718 Jun 29 21:11 _Revenue.png\r\n",
      "-rw-r--r--@ 1 sam3  staff  104514 Jun 29 21:11 _Expenses.png\r\n",
      "-rw-r--r--  1 sam3  staff  124856 Jun 30 13:21 _Earnings.png\r\n"
     ]
    }
   ],
   "source": [
    "%ls -lrt stocks/KO"
   ]
  },
  {
   "cell_type": "code",
   "execution_count": 5,
   "metadata": {},
   "outputs": [],
   "source": [
    "df = pd.read_json('./stocks/KO/BALANCESHEET_YR_{0}.json'.format(stock))"
   ]
  },
  {
   "cell_type": "code",
   "execution_count": 6,
   "metadata": {},
   "outputs": [],
   "source": [
    "df.to_csv('KO_BalanceSheet.csv',index=False)"
   ]
  },
  {
   "cell_type": "code",
   "execution_count": 5,
   "metadata": {},
   "outputs": [],
   "source": [
    "df = df[['date','symbol','fillingDate','acceptedDate','period',\n",
    "    'cashAndCashEquivalents','shortTermInvestments','cashAndShortTermInvestments','netReceivables','inventory',\n",
    "   'otherCurrentAssets','totalCurrentAssets','propertyPlantEquipmentNet','goodwill','intangibleAssets',\n",
    "   'goodwillAndIntangibleAssets','longTermInvestments','taxAssets','otherNonCurrentAssets','totalNonCurrentAssets',\n",
    "    'otherAssets','totalAssets','accountPayables','shortTermDebt','taxPayables','deferredRevenue','otherCurrentLiabilities',\n",
    "    'totalCurrentLiabilities','longTermDebt','deferredRevenueNonCurrent','deferredTaxLiabilitiesNonCurrent',\n",
    "    'otherNonCurrentLiabilities','totalNonCurrentLiabilities','otherLiabilities','totalLiabilities',\n",
    "    'commonStock','retainedEarnings','accumulatedOtherComprehensiveIncomeLoss','othertotalStockholdersEquity',\n",
    "    'totalStockholdersEquity','totalLiabilitiesAndStockholdersEquity','totalInvestments','totalDebt','netDebt','link','finalLink'\n",
    "   ]]"
   ]
  },
  {
   "cell_type": "markdown",
   "metadata": {},
   "source": [
    "### Additional Notes \n",
    "Source: Waren Buffett and Interpretation of Financial Statements\n",
    "- Ch 24: Big cash value represents that company is generating lots of cash (cycle of cash) (good) or sold a business / tons of bonds (not good). Low cash value represents company has mediocre economics. Companies with large cash stack have a competitive advantage (companies can use this cash to invest in their business operations or prepare for any unforeseeable situations)\n",
    "- Ch 25: For inventory specifically manufacturing companies, look for products that never stop existing. Look for inventory and net earnings that are increasing (company find profitable ways to increase sales which also corresponds to inventory). Don't look for companies that have inconsistent inventories. \n",
    "- Ch 26: Lower percentage of Net Receivables to Gross Sales than its competitors (money came in before instead of waiting payment period, since Receivables is money that has not been paid and paid over periodically\n",
    "- Ch 28: Total Current Assets compared with Total Current Liabilities ratio. Note that there are some companies with ratio < 1 that have incredible earning power that can pay off their liabilities very easily. They are leveraging short-term debt to pay dividends and stock repurchasing (aka make company look better) Buffett doesn't use this ratio because of this anomaly. \n",
    "- Ch 29: Look for company that do not need to upgrade the property/plants/equipment often and can finance it themselves\n",
    "- Ch 30: \n",
    "- Ch 31: Brand Name is hard to measure quantiatively, you have to use qualitative approach to aanlyze and correlate to the earnings. \n",
    "- Ch 32: Look into company's long term investments to see what company's vision (invest in company with competitive advantage or highly competitive)\n",
    "- Ch 33: \n",
    "- Ch 34: Earnings/Assets = % return on assets. Buffett believes high % shows vulnerability in durability for competitive advantage. Example Coca Cola makes 12% return on 43B. Moody makes 43% on 1.7B. Its impossible for Coca Cola to make 43B (additional 100% return) on your asset, so be aware. \n",
    "- Ch 35: \n",
    "- Ch 36: Accounts Payable, Accrued Payments, Other debts alone can tell us about the long-term economics of the business\n",
    "- Ch 37: Roll over debt is risky when interest rates are uncertain. Also, company can use debt to lend out short-term, but if lender stops lending, company is screwed. Safest+smartest in banking is to borrow long-term and lend long-term.   \n",
    "- Ch 38: Companies with durable advantage have low/no long-term debt due\n",
    "- Ch 39: Current Ratio (current assets/current liabilities) > 1 = good, < 1 = bad. Remember there are exceptions to companies with immense earning power with current ratio < 1. Ratio is important, but does not determine the competitive advantage\n",
    "- Ch 40: Companies with none/low long-term debt have a competitive advantage, because companies are so profitable that they are self-financing when they expand or acquire businesses. Buffett checks the long-term debt in last 10 yrs. If company did not have much long term debt, then they have competitive advantage. Also analyze the company, if they have ability to pay long-term debt right now, but just choose not to. \n",
    "- Ch 42: Company with durable advantage will use earning power to finance operations. Problem with debt to shareholder ratio is if company with immense earning power buys back shares thus lowering the shareholder atio and increasing debt \n",
    "- Ch 43: \n",
    "\n",
    "\n",
    "Research other companies in that sector and compare these percentages as well\n",
    "\n"
   ]
  },
  {
   "cell_type": "code",
   "execution_count": null,
   "metadata": {},
   "outputs": [],
   "source": []
  }
 ],
 "metadata": {
  "kernelspec": {
   "display_name": "Python 3",
   "language": "python",
   "name": "python3"
  },
  "language_info": {
   "codemirror_mode": {
    "name": "ipython",
    "version": 3
   },
   "file_extension": ".py",
   "mimetype": "text/x-python",
   "name": "python",
   "nbconvert_exporter": "python",
   "pygments_lexer": "ipython3",
   "version": "3.7.2"
  }
 },
 "nbformat": 4,
 "nbformat_minor": 4
}
